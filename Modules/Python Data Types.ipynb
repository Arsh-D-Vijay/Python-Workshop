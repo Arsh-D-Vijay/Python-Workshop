{
 "cells": [
  {
   "cell_type": "markdown",
   "id": "74efa138",
   "metadata": {},
   "source": [
    "# Number Data Types"
   ]
  },
  {
   "cell_type": "markdown",
   "id": "112ace4f",
   "metadata": {},
   "source": [
    "Some of the common data types dealing with numbers in python are:\n",
    "```int```\n",
    "```float```\n",
    "```complex```\n",
    "```int```"
   ]
  },
  {
   "cell_type": "code",
   "execution_count": 14,
   "id": "2ced8664",
   "metadata": {},
   "outputs": [
    {
     "name": "stdout",
     "output_type": "stream",
     "text": [
      "<class 'int'>\n",
      "<class 'float'>\n",
      "<class 'complex'>\n"
     ]
    }
   ],
   "source": [
    "x = 1    # int\n",
    "y = 2.8  # float\n",
    "z = 1j   # complex\n",
    "\n",
    "print(type(x))\n",
    "print(type(y))\n",
    "print(type(z))"
   ]
  },
  {
   "cell_type": "markdown",
   "id": "626626f2",
   "metadata": {},
   "source": [
    "We can represent large float numbers in python using e "
   ]
  },
  {
   "cell_type": "code",
   "execution_count": 15,
   "id": "fd9948f0",
   "metadata": {},
   "outputs": [],
   "source": [
    "x = 35e3\n",
    "y = 12e4\n",
    "z = -87.7e100"
   ]
  },
  {
   "cell_type": "markdown",
   "id": "b45511b9",
   "metadata": {},
   "source": [
    "# Boolean Data Type"
   ]
  },
  {
   "cell_type": "markdown",
   "id": "e4aca86e",
   "metadata": {},
   "source": [
    "In programming you often need to know if an expression is True or False.\n",
    "\n",
    "You can evaluate any expression in Python, and get one of two answers, True or False.\n",
    "\n",
    "When you compare two values, the expression is evaluated and Python returns the Boolean answer:"
   ]
  },
  {
   "cell_type": "code",
   "execution_count": 16,
   "id": "127a5d24",
   "metadata": {},
   "outputs": [],
   "source": [
    "a = True\n",
    "b = False"
   ]
  },
  {
   "cell_type": "markdown",
   "id": "4345d570",
   "metadata": {},
   "source": [
    "```>, <, >=, <=, !=``` These all return a boolean"
   ]
  },
  {
   "cell_type": "code",
   "execution_count": 17,
   "id": "cad5808f",
   "metadata": {},
   "outputs": [
    {
     "data": {
      "text/plain": [
       "False"
      ]
     },
     "execution_count": 17,
     "metadata": {},
     "output_type": "execute_result"
    }
   ],
   "source": [
    "20 > 30"
   ]
  },
  {
   "cell_type": "code",
   "execution_count": 18,
   "id": "59ccdb37",
   "metadata": {},
   "outputs": [
    {
     "data": {
      "text/plain": [
       "True"
      ]
     },
     "execution_count": 18,
     "metadata": {},
     "output_type": "execute_result"
    }
   ],
   "source": [
    "a > b   # Can you tell why this is?"
   ]
  },
  {
   "cell_type": "code",
   "execution_count": 19,
   "id": "200bafdc",
   "metadata": {},
   "outputs": [
    {
     "data": {
      "text/plain": [
       "4"
      ]
     },
     "execution_count": 19,
     "metadata": {},
     "output_type": "execute_result"
    }
   ],
   "source": [
    "a + 3"
   ]
  },
  {
   "cell_type": "markdown",
   "id": "97ee243c",
   "metadata": {},
   "source": [
    "#### Most Values are True\n",
    "\n",
    "Almost any value is evaluated to True if it has some sort of content.\n",
    "Any string is True, except empty strings.\n",
    "\n",
    "Any number is True, except 0.\n",
    "Any list, tuple, set, and dictionary are True, except empty ones."
   ]
  },
  {
   "cell_type": "markdown",
   "id": "71046992",
   "metadata": {},
   "source": [
    "In fact, there are not many values that evaluate to False, except empty values, such as (), [], {}, \"\", the number 0, and the value None. And of course the value False evaluates to False."
   ]
  },
  {
   "cell_type": "code",
   "execution_count": null,
   "id": "566db267",
   "metadata": {},
   "outputs": [],
   "source": []
  }
 ],
 "metadata": {
  "kernelspec": {
   "display_name": "Python 3",
   "language": "python",
   "name": "python3"
  },
  "language_info": {
   "codemirror_mode": {
    "name": "ipython",
    "version": 3
   },
   "file_extension": ".py",
   "mimetype": "text/x-python",
   "name": "python",
   "nbconvert_exporter": "python",
   "pygments_lexer": "ipython3",
   "version": "3.8.8"
  }
 },
 "nbformat": 4,
 "nbformat_minor": 5
}
