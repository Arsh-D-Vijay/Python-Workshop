{
 "cells": [
  {
   "cell_type": "markdown",
   "id": "c94650d0",
   "metadata": {},
   "source": [
    "## Python Workshop\n",
    "                                                                                        -- Module: Tuples"
   ]
  },
  {
   "cell_type": "markdown",
   "id": "aae82821",
   "metadata": {},
   "source": [
    "## Tuples\n",
    "\n",
    "### What are a Tuples?\n",
    "\n",
    "A tuple is a collection which is **ordered** and **immutable**.<br>\n",
    "A tuple can store **hetrogenous** data and also allows **duplicate values**.\n"
   ]
  },
  {
   "cell_type": "markdown",
   "id": "c5f14fd6",
   "metadata": {},
   "source": [
    "### Initializing a Tuple\n",
    "To initialise a tuple we could use `()` or `tuple()`. <br>\n",
    "\n"
   ]
  },
  {
   "cell_type": "code",
   "execution_count": 1,
   "id": "a5bf4658",
   "metadata": {},
   "outputs": [],
   "source": [
    "tup = ()\n",
    "tup1 = tuple()\n",
    "\n",
    "tup1 = ('Black','Bettles','in','the','city')"
   ]
  },
  {
   "cell_type": "markdown",
   "id": "f698bd6c",
   "metadata": {},
   "source": [
    "#### Create Tuple With One Item\n",
    "To create a tuple with only one item, you have to add a comma after the item, otherwise Python will not recognize it as a tuple."
   ]
  },
  {
   "cell_type": "code",
   "execution_count": 5,
   "id": "320b4733",
   "metadata": {},
   "outputs": [
    {
     "name": "stdout",
     "output_type": "stream",
     "text": [
      "<class 'tuple'>\n",
      "\n",
      "<class 'str'>\n"
     ]
    }
   ],
   "source": [
    "one_ele_tup = ('apple',)\n",
    "not_a_tup = ('apple')\n",
    "\n",
    "print(type(one_ele_tup),type(not_a_tup),sep = '\\n\\n')"
   ]
  },
  {
   "cell_type": "markdown",
   "id": "4974aa70",
   "metadata": {},
   "source": [
    "### Accessing Items in tuple\n",
    "Simillar to lists, tuples are also indexed. "
   ]
  },
  {
   "cell_type": "code",
   "execution_count": 2,
   "id": "ad9d3e66",
   "metadata": {},
   "outputs": [
    {
     "data": {
      "text/plain": [
       "'Bettles'"
      ]
     },
     "execution_count": 2,
     "metadata": {},
     "output_type": "execute_result"
    }
   ],
   "source": [
    "tup1[1]"
   ]
  },
  {
   "cell_type": "markdown",
   "id": "23f4f69b",
   "metadata": {},
   "source": [
    "### Length of Tuple\n",
    "By using `len()` function we can get the length of the tuple"
   ]
  },
  {
   "cell_type": "code",
   "execution_count": 3,
   "id": "4e5ef0b2",
   "metadata": {
    "scrolled": true
   },
   "outputs": [
    {
     "name": "stdout",
     "output_type": "stream",
     "text": [
      "5\n"
     ]
    }
   ],
   "source": [
    "print(len(tup1))"
   ]
  },
  {
   "cell_type": "markdown",
   "id": "fa7802a9",
   "metadata": {},
   "source": [
    "### Add tuple to tuple\n",
    "Since Tuples are **immutable** we can't directly add or remove any elemnet in tuple, but we can **add a tuple to a tuple** to create a new tuple in order to add element. "
   ]
  },
  {
   "cell_type": "code",
   "execution_count": 8,
   "id": "8182ac27",
   "metadata": {},
   "outputs": [
    {
     "name": "stdout",
     "output_type": "stream",
     "text": [
      "('Black', 'Bettles', 'in', 'the', 'city', 'Evacuate', 'Immediately')\n"
     ]
    }
   ],
   "source": [
    "tup2 = ('Evacuate','Immediately')\n",
    "tup3 = tup1 + tup2\n",
    "\n",
    "print(tup3)"
   ]
  },
  {
   "cell_type": "markdown",
   "id": "48f0df3f",
   "metadata": {},
   "source": [
    "### Multiply Tuples\n",
    "If you want to multiply the content of a tuple a given number of times, you can use the `*` operator"
   ]
  },
  {
   "cell_type": "code",
   "execution_count": 16,
   "id": "d39323fd",
   "metadata": {},
   "outputs": [
    {
     "name": "stdout",
     "output_type": "stream",
     "text": [
      "('Black', 'Bettles', 'in', 'the', 'city', 'Black', 'Bettles', 'in', 'the', 'city')\n"
     ]
    }
   ],
   "source": [
    "tup4 = tup1*2\n",
    "print(tup4)"
   ]
  },
  {
   "cell_type": "markdown",
   "id": "4d491820",
   "metadata": {},
   "source": [
    "### Packing and Unpacking\n",
    "One of the use of tuple is to pack a series of data, for later use"
   ]
  },
  {
   "cell_type": "code",
   "execution_count": 10,
   "id": "fa782a8d",
   "metadata": {},
   "outputs": [
    {
     "name": "stdout",
     "output_type": "stream",
     "text": [
      "apple\n",
      "banana\n",
      "Guava\n"
     ]
    }
   ],
   "source": [
    "fruits = ('apple','banana','Guava')\n",
    "apple,banana,guava = fruits\n",
    "\n",
    "print(apple,banana,guava,sep = '\\n')"
   ]
  },
  {
   "cell_type": "markdown",
   "id": "52170897",
   "metadata": {},
   "source": [
    "Using `*` we can unpack multiple values in single variable"
   ]
  },
  {
   "cell_type": "code",
   "execution_count": 14,
   "id": "dbe66613",
   "metadata": {},
   "outputs": [
    {
     "name": "stdout",
     "output_type": "stream",
     "text": [
      "apple\n",
      "['banana', 'Guava']\n"
     ]
    }
   ],
   "source": [
    "apple,*other = fruits\n",
    "\n",
    "print(apple,other, sep='\\n')"
   ]
  },
  {
   "cell_type": "markdown",
   "id": "af2544f2",
   "metadata": {},
   "source": [
    "### Count Method\n",
    "To count the occurance of element in tuple we can use `.count()` method."
   ]
  },
  {
   "cell_type": "code",
   "execution_count": 17,
   "id": "1b82e123",
   "metadata": {},
   "outputs": [
    {
     "name": "stdout",
     "output_type": "stream",
     "text": [
      "2\n"
     ]
    }
   ],
   "source": [
    "print(tup4.count('Black'))"
   ]
  },
  {
   "cell_type": "markdown",
   "id": "e5200408",
   "metadata": {},
   "source": [
    "### Index Method\n",
    "The `index()` method finds the **first** occurrence of the specified value."
   ]
  },
  {
   "cell_type": "code",
   "execution_count": 19,
   "id": "7888c054",
   "metadata": {},
   "outputs": [
    {
     "data": {
      "text/plain": [
       "4"
      ]
     },
     "execution_count": 19,
     "metadata": {},
     "output_type": "execute_result"
    }
   ],
   "source": [
    "tup4.index('city')"
   ]
  },
  {
   "cell_type": "markdown",
   "id": "9cf0c19f",
   "metadata": {},
   "source": [
    "## <center>END"
   ]
  }
 ],
 "metadata": {
  "kernelspec": {
   "display_name": "Python 3",
   "language": "python",
   "name": "python3"
  },
  "language_info": {
   "codemirror_mode": {
    "name": "ipython",
    "version": 3
   },
   "file_extension": ".py",
   "mimetype": "text/x-python",
   "name": "python",
   "nbconvert_exporter": "python",
   "pygments_lexer": "ipython3",
   "version": "3.8.10"
  }
 },
 "nbformat": 4,
 "nbformat_minor": 5
}
