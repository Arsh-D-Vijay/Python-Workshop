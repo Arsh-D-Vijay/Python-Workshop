{
 "cells": [
  {
   "cell_type": "markdown",
   "id": "bd311e9b",
   "metadata": {},
   "source": [
    "## Python Workshop\n",
    "                                                                                                -- Module : Sets"
   ]
  },
  {
   "cell_type": "markdown",
   "id": "73806d48",
   "metadata": {},
   "source": [
    "## Sets\n",
    "\n",
    "### What are Sets?\n",
    "A set is a collection which is both **unordered** and **unindexed**, where each element is **different** from each other.<br>\n",
    "Like Lists, sets are also **Hetrogenous**.<br>\n",
    "In python there are two types of sets:-\n",
    "```\n",
    "1. Set        {Mutable}\n",
    "2. Frozenset  {Immutable}\n",
    "```\n"
   ]
  },
  {
   "cell_type": "markdown",
   "id": "afce99c9",
   "metadata": {},
   "source": [
    "### Initialising a Set\n",
    "A set can be initialised either by directly calling its function or `{}` brackets (not applicable to frozenset)"
   ]
  },
  {
   "cell_type": "code",
   "execution_count": 6,
   "id": "58ef53fd",
   "metadata": {},
   "outputs": [],
   "source": [
    "se = set()\n",
    "f_se = frozenset()\n",
    "\n",
    "se = {'Banana','BANANA','Cap',2,44.56} # It is case-sensetive"
   ]
  },
  {
   "cell_type": "markdown",
   "id": "f2095c87",
   "metadata": {},
   "source": [
    "### Finding length of a Set"
   ]
  },
  {
   "cell_type": "code",
   "execution_count": 7,
   "id": "09c45236",
   "metadata": {},
   "outputs": [
    {
     "name": "stdout",
     "output_type": "stream",
     "text": [
      "se has 5 elements\n"
     ]
    }
   ],
   "source": [
    "print(f\"se has {len(se)} elements\")"
   ]
  },
  {
   "cell_type": "markdown",
   "id": "7e235c70",
   "metadata": {},
   "source": [
    "### Accessing Items of Sets\n",
    "\n",
    "Since sets are **unorganised** as well as **unindexed** we can't directly access any element in a set.<br>\n",
    "We can either **traverse** a set or check if an object **exist** in set or not."
   ]
  },
  {
   "cell_type": "code",
   "execution_count": 8,
   "id": "4dd4a435",
   "metadata": {},
   "outputs": [
    {
     "name": "stdout",
     "output_type": "stream",
     "text": [
      "Indexing not allowed!!\n",
      "Cap exist in set!!\n"
     ]
    }
   ],
   "source": [
    "try:\n",
    "    print(se[2])\n",
    "except:\n",
    "    print(\"Indexing not allowed!!\")\n",
    "\n",
    "\n",
    "    \n",
    "if 'Cap' in se:\n",
    "    print(\"Cap exist in set!!\")\n",
    "else:\n",
    "    print(\"No Match Found!!\")\n",
    "    "
   ]
  },
  {
   "cell_type": "markdown",
   "id": "7295843b",
   "metadata": {},
   "source": [
    "### Add items in Set\n",
    "To add item in set we will use `.add(val)` method."
   ]
  },
  {
   "cell_type": "code",
   "execution_count": 18,
   "id": "32b430f5",
   "metadata": {},
   "outputs": [],
   "source": [
    "se.add('New Element')"
   ]
  },
  {
   "cell_type": "markdown",
   "id": "72c30f04",
   "metadata": {},
   "source": [
    "To add any iterable in set we can use `.update(iterable)` method"
   ]
  },
  {
   "cell_type": "code",
   "execution_count": 12,
   "id": "5bea4c47",
   "metadata": {},
   "outputs": [
    {
     "name": "stdout",
     "output_type": "stream",
     "text": [
      "{'Cap', 2, 'b', 'A', 'BANANA', 44.56, 'New Element', 'Banana'}\n"
     ]
    }
   ],
   "source": [
    "se.update(['A','A','b']) # Only single 'A' and 'b' will be added to Set... No duplicate values\n",
    "\n",
    "print(se) # Order is not preserved"
   ]
  },
  {
   "cell_type": "markdown",
   "id": "08655453",
   "metadata": {},
   "source": [
    "### Remove items from Set\n",
    "To remove an item from set we can use `.remove()` or `.discard()` method.\n",
    "\n",
    "\n",
    "**Note: If the item to be removed does not exist in set then ``.remove()`` method will raise an error while `.discard()` will not.**"
   ]
  },
  {
   "cell_type": "code",
   "execution_count": 19,
   "id": "1bac6aee",
   "metadata": {},
   "outputs": [],
   "source": [
    "se.remove('New Element')\n",
    "\n",
    "se.discard(\"Non Existent Element\") # Even though this element does not exist in set it will not raise any error."
   ]
  },
  {
   "cell_type": "markdown",
   "id": "0a5e401a",
   "metadata": {},
   "source": [
    "To remove all values from set we can use `.clear()` method"
   ]
  },
  {
   "cell_type": "code",
   "execution_count": 20,
   "id": "9ef21f1c",
   "metadata": {},
   "outputs": [
    {
     "name": "stdout",
     "output_type": "stream",
     "text": [
      "set()\n"
     ]
    }
   ],
   "source": [
    "se.clear()\n",
    "print(se) # Empty Set"
   ]
  },
  {
   "cell_type": "markdown",
   "id": "40c2bb2c",
   "metadata": {},
   "source": [
    "To delete the set permanently we can use `del`. "
   ]
  },
  {
   "cell_type": "code",
   "execution_count": 21,
   "id": "908595ba",
   "metadata": {},
   "outputs": [],
   "source": [
    "del se # Removes se from existence"
   ]
  },
  {
   "cell_type": "markdown",
   "id": "136a8ff3",
   "metadata": {},
   "source": [
    "### Union, Intersection and Symmetric Difference\n",
    "\n",
    "The `union()` method returns a new set with **all items from both sets**.<br>\n",
    "The `intersection()` method returns a new set with items that are **present in both sets**.<br>\n",
    "The `symmetric_difference()` method will return a new set, that contains only the elements that are **NOT present in both sets**.\n",
    "\n",
    "All the above methods creats a new set but if we want to **update** an existing one we can use following methods.\n",
    "\n",
    "The `.update()` method inserts the items in ***set2 into set1***. <br>\n",
    "The `.intersection_update()` method will keep only the items that are **present in both sets**.<br>\n",
    "The `.symmetric_difference_update()` method will keep only the elements that are **NOT present in both sets**."
   ]
  },
  {
   "cell_type": "code",
   "execution_count": 22,
   "id": "33ca3a7f",
   "metadata": {},
   "outputs": [],
   "source": [
    "set1 = {1,2,3,4}\n",
    "set2 = {1, 'Banana','2',3}"
   ]
  },
  {
   "cell_type": "code",
   "execution_count": 27,
   "id": "7ba68d70",
   "metadata": {},
   "outputs": [
    {
     "name": "stdout",
     "output_type": "stream",
     "text": [
      "Union: {1, 2, 3, 4, '2', 'Banana'}\n",
      "Intersection: {1, 3}\n",
      "Symmetric Difference: {2, 4, '2', 'Banana'}\n"
     ]
    }
   ],
   "source": [
    "set3 = set1.union(set2)\n",
    "set4 = set1.intersection(set2)\n",
    "set5 = set1.symmetric_difference(set2)\n",
    "\n",
    "print(f\"Union: {set3}\")\n",
    "print(f\"Intersection: {set4}\")\n",
    "print(f\"Symmetric Difference: {set5}\")"
   ]
  },
  {
   "cell_type": "code",
   "execution_count": 30,
   "id": "d94133e5",
   "metadata": {},
   "outputs": [
    {
     "name": "stdout",
     "output_type": "stream",
     "text": [
      "{1, 2, 3, 4, '2', 'Banana'}\n",
      "{2, '2', 4, 'Banana'}\n",
      "{1, 2, 3, 4}\n"
     ]
    }
   ],
   "source": [
    "set1.update(set2)\n",
    "print(set1) # Updated set1\n",
    "set1.intersection_update(set5)\n",
    "print(set1) # Updated set1\n",
    "set1.symmetric_difference_update(set2)\n",
    "print(set1) # Updated set1"
   ]
  },
  {
   "cell_type": "markdown",
   "id": "986ada28",
   "metadata": {},
   "source": [
    "## <center>END</center>"
   ]
  }
 ],
 "metadata": {
  "kernelspec": {
   "display_name": "Python 3",
   "language": "python",
   "name": "python3"
  },
  "language_info": {
   "codemirror_mode": {
    "name": "ipython",
    "version": 3
   },
   "file_extension": ".py",
   "mimetype": "text/x-python",
   "name": "python",
   "nbconvert_exporter": "python",
   "pygments_lexer": "ipython3",
   "version": "3.8.8"
  }
 },
 "nbformat": 4,
 "nbformat_minor": 5
}
