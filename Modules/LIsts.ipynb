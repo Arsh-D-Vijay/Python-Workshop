{
 "cells": [
  {
   "cell_type": "markdown",
   "metadata": {},
   "source": [
    "# Python Workshop\n",
    "                                                                                       -- Module: Lists\n",
    "<hr>"
   ]
  },
  {
   "cell_type": "markdown",
   "metadata": {},
   "source": [
    "## Flow of course\n",
    "<br>\n",
    "\n",
    "- **[What are Lists in Python](#obj1)** <br>\n",
    "- **[Properties of List](#obj2)** <br>\n",
    "- **[Slicing in Python](#obj3)** <br>\n",
    "- **[List Methods in Python](#obj4)** <br>"
   ]
  },
  {
   "cell_type": "markdown",
   "metadata": {},
   "source": [
    "## <center>What are Lists in Python</center>\n",
    "<a id = 'obj1'></a>"
   ]
  },
  {
   "cell_type": "markdown",
   "metadata": {},
   "source": [
    "* A list is an ordered and mutable **Python Sequential Datatype**.\n",
    "* To create a list, the elements are placed inside square brackets ```[]```, separated by commas or by using \"list()\" function, As shown below. <br>\n",
    "    Example: - <br>\n",
    "    ```mylist = [\"apple\", \"banana\", \"cherry\"]``` <br>\n",
    "    \n",
    "    ```mylist = list((\"apple\", \"banana\", \"cherry\"))```<br><br>\n",
    "    \n",
    "* lists can contain elements of different types as well as duplicated elements.\n",
    "* Lists are used to store multiple items in a single variable."
   ]
  },
  {
   "cell_type": "code",
   "execution_count": 1,
   "metadata": {},
   "outputs": [
    {
     "name": "stdout",
     "output_type": "stream",
     "text": [
      "['apple', 'banana', 'cherry', 1, 2, 3, 4, 2.5, 3.2]\n"
     ]
    }
   ],
   "source": [
    "# creating a list\n",
    "mylist = [\"apple\", \"banana\", \"cherry\", 1 , 2 , 3 , 4 , 2.5 , 3.2]\n",
    "print(mylist)"
   ]
  },
  {
   "cell_type": "markdown",
   "metadata": {},
   "source": [
    "<br>\n",
    "<hr>"
   ]
  },
  {
   "cell_type": "markdown",
   "metadata": {},
   "source": [
    "## <center>Properties of List</center>\n",
    "<a id = 'obj2'></a>"
   ]
  },
  {
   "cell_type": "markdown",
   "metadata": {},
   "source": [
    "### *Ordered*:\n",
    "When we say that lists are ordered, it means that the items have a defined order, and that order will not change.<br>\n",
    "Python provides us means to add an element at a specified index or at end of the list but the order of the list after adding the new element will remain same.<br>\n",
    "\n",
    "**Important Note: There are some list methods that will change the index of the element, but the order of the elements is  preserved.** \n",
    "\n",
    "### *Mutable*:\n",
    "The list is changeable, meaning that we can change, add, and remove items in a list after it has been created.<br>\n",
    "\n",
    "### *Allow Duplicates*:\n",
    "Since lists are indexed, lists can have items with the same value:<br>\n",
    "\n",
    "### *Heterogenous*:\n",
    "In list we can store differt objects of differt datatypes in same list"
   ]
  },
  {
   "cell_type": "code",
   "execution_count": 2,
   "metadata": {},
   "outputs": [
    {
     "name": "stdout",
     "output_type": "stream",
     "text": [
      "['apple', 'cherry', 'apple', 'cherry', 1, 1, 2, 2]\n"
     ]
    }
   ],
   "source": [
    "# Example of list with duplicate values\n",
    "\n",
    "List1 = [\"apple\" , \"cherry\", \"apple\", \"cherry\", 1 , 1 , 2 , 2 ]\n",
    "print(List1)"
   ]
  },
  {
   "cell_type": "code",
   "execution_count": 3,
   "metadata": {},
   "outputs": [
    {
     "name": "stdout",
     "output_type": "stream",
     "text": [
      "['efgh', 29, False, 40, 'Ron']\n"
     ]
    }
   ],
   "source": [
    "# A single list can contain different data types:\n",
    "list5 = [\"efgh\" , 29 , False , 40 , \"Ron\"]\n",
    "print(list5)"
   ]
  },
  {
   "cell_type": "markdown",
   "metadata": {},
   "source": [
    "**Important Note: Lists allows us to have multiple Datatypes because Lists objects are lists Datatype regardless of the Datatypes of it's elements.**"
   ]
  },
  {
   "cell_type": "code",
   "execution_count": 4,
   "metadata": {},
   "outputs": [
    {
     "name": "stdout",
     "output_type": "stream",
     "text": [
      "<class 'list'>\n",
      "<class 'list'>\n"
     ]
    }
   ],
   "source": [
    "#Example\n",
    "print(type(List1))\n",
    "print(type(list5))"
   ]
  },
  {
   "cell_type": "markdown",
   "metadata": {},
   "source": [
    "-----------------------------------\n",
    "### Accessing List Items"
   ]
  },
  {
   "cell_type": "markdown",
   "metadata": {},
   "source": [
    "1. Access Items via Index (index starts from 0)"
   ]
  },
  {
   "cell_type": "code",
   "execution_count": 5,
   "metadata": {},
   "outputs": [
    {
     "name": "stdout",
     "output_type": "stream",
     "text": [
      "cherry\n"
     ]
    }
   ],
   "source": [
    "#Example\n",
    "List7 = [\"apple\" , \"cherry\", \"apple\", \"cherry\", 1 , 1 , 2 , 2 ]\n",
    "print(List7[1])"
   ]
  },
  {
   "cell_type": "markdown",
   "metadata": {},
   "source": [
    "2. Negative Indexing {-1 refers to the last item, -2 refers to the second last item and so on.}"
   ]
  },
  {
   "cell_type": "code",
   "execution_count": 6,
   "metadata": {},
   "outputs": [
    {
     "name": "stdout",
     "output_type": "stream",
     "text": [
      "2\n"
     ]
    }
   ],
   "source": [
    "#Example\n",
    "List7 = [\"apple\" , \"cherry\", \"apple\", \"cherry\", 1 , 1 , 2 , 2 ]\n",
    "print(List7[-1])"
   ]
  },
  {
   "cell_type": "markdown",
   "metadata": {},
   "source": [
    "-----------------------------------------------------------------------------"
   ]
  },
  {
   "cell_type": "markdown",
   "metadata": {},
   "source": [
    "## <center>Slicing</center>\n",
    "<a id = 'obj3'></a>\n",
    "We can specify a range of indexes by specifying where to start and where to end the range. When specifying a range, it    returns a new list with the specified range.<br>\n",
    "    \n",
    "#####  For slice range [a:b:c] --  a is starting point (inclusive), b is ending point (exclusive), c is steps\n",
    "\n",
    "**By defaut starting point is 0, ending point is len(list) and step is 1**"
   ]
  },
  {
   "cell_type": "code",
   "execution_count": 7,
   "metadata": {},
   "outputs": [
    {
     "name": "stdout",
     "output_type": "stream",
     "text": [
      "List Items from index 2 to 5: ['apple', 'cherry', 1, 1]\n",
      "\n",
      "First 3 items of list: ['apple', 'cherry', 'apple']\n",
      "\n",
      "List Items from index 3 to end of list:  ['cherry', 1, 1, 2, 2]\n"
     ]
    }
   ],
   "source": [
    "#Example\n",
    "List7 = [\"apple\" , \"cherry\", \"apple\", \"cherry\", 1 , 1 , 2 , 2 ]\n",
    "print(\"List Items from index 2 to 5:\", List7[2:6], end=\"\\n\\n\")\n",
    "\n",
    "# Slicing with default starting\n",
    "\n",
    "print(\"First 3 items of list:\" ,List7[:3], end=\"\\n\\n\")\n",
    "\n",
    "# Slicing with default ending\n",
    "\n",
    "print(\"List Items from index 3 to end of list: \",List7[3:], end=\"\\n\")"
   ]
  },
  {
   "cell_type": "markdown",
   "metadata": {},
   "source": [
    "#### Steps Indexing"
   ]
  },
  {
   "cell_type": "code",
   "execution_count": 8,
   "metadata": {},
   "outputs": [
    {
     "name": "stdout",
     "output_type": "stream",
     "text": [
      "['apple', 'apple', 1, 2]\n"
     ]
    }
   ],
   "source": [
    "print(List7[::2]) # prints alternate items of a list"
   ]
  },
  {
   "cell_type": "markdown",
   "metadata": {},
   "source": [
    "##### Note: Steps can also be negative"
   ]
  },
  {
   "cell_type": "code",
   "execution_count": 9,
   "metadata": {},
   "outputs": [
    {
     "name": "stdout",
     "output_type": "stream",
     "text": [
      "[1, 'cherry']\n"
     ]
    }
   ],
   "source": [
    "print(List7[5:1:-2]) # starts from index 5 ends on index 1 (exclusively) with reduction of 2 at each step"
   ]
  },
  {
   "cell_type": "markdown",
   "metadata": {},
   "source": [
    "<hr>\n",
    "\n",
    "### Finding Length of List:\n",
    "\n",
    "To determine how many items are there in the list we use the **len()** function:\n",
    "\n",
    "**Note: len() function can be used to find the length of any iterable item**"
   ]
  },
  {
   "cell_type": "code",
   "execution_count": 10,
   "metadata": {},
   "outputs": [
    {
     "name": "stdout",
     "output_type": "stream",
     "text": [
      "8\n"
     ]
    }
   ],
   "source": [
    "List1 = [\"apple\" , \"cherry\", \"apple\", \"cherry\", 1 , 1 , 2 , 2 ]\n",
    "print(len(List1))"
   ]
  },
  {
   "cell_type": "markdown",
   "metadata": {},
   "source": [
    "### Checking if a item exists in the list or not\n",
    "* We use **\"in\"** operator (membership operator) to find whether a item is present in list"
   ]
  },
  {
   "cell_type": "code",
   "execution_count": 11,
   "metadata": {},
   "outputs": [
    {
     "name": "stdout",
     "output_type": "stream",
     "text": [
      "Yes, cheery is in List7\n"
     ]
    }
   ],
   "source": [
    "#Example\n",
    "List7 = [\"apple\" , \"cherry\", \"apple\", \"cherry\", 1 , 1 , 2 , 2 ]\n",
    "if \"cherry\" in List7:\n",
    "    print(\"Yes, cheery is in List7\")\n",
    "else:\n",
    "    print(\"The given item is not present in List7\")"
   ]
  },
  {
   "cell_type": "markdown",
   "metadata": {},
   "source": [
    "### Changing the items present in the list\n",
    "  For changing the value of a specific item, we refer to the index number:"
   ]
  },
  {
   "cell_type": "code",
   "execution_count": 12,
   "metadata": {},
   "outputs": [
    {
     "name": "stdout",
     "output_type": "stream",
     "text": [
      "['mango', 'cherry', 'apple', 'cherry', 1, 1, 2, 2]\n"
     ]
    }
   ],
   "source": [
    "#Example\n",
    "List7 = [\"apple\" , \"cherry\", \"apple\", \"cherry\", 1 , 1 , 2 , 2 ]\n",
    "List7[0] = \"mango\"\n",
    "print(List7)"
   ]
  },
  {
   "cell_type": "markdown",
   "metadata": {},
   "source": [
    "Changing multiple items of a list (refer to the range of index numbers where you want to insert the new values)."
   ]
  },
  {
   "cell_type": "code",
   "execution_count": 13,
   "metadata": {},
   "outputs": [
    {
     "name": "stdout",
     "output_type": "stream",
     "text": [
      "['mango', 'strawberry', 'orange', 'cherry', 1, 1, 2, 2]\n"
     ]
    }
   ],
   "source": [
    "#Example\n",
    "List7 = [\"apple\" , \"cherry\", \"apple\", \"cherry\", 1 , 1 , 2 , 2 ]\n",
    "List7[:3] = \"mango\" , \"strawberry\" , \"orange\"\n",
    "print(List7)"
   ]
  },
  {
   "cell_type": "code",
   "execution_count": 14,
   "metadata": {},
   "outputs": [
    {
     "name": "stdout",
     "output_type": "stream",
     "text": [
      "['mango', 'apple', 'cherry', 1, 1, 2, 2]\n"
     ]
    }
   ],
   "source": [
    "# Assigning single value in place of multiple values\n",
    "\n",
    "List7 = [\"apple\" , \"cherry\", \"apple\", \"cherry\", 1 , 1 , 2 , 2 ]\n",
    "List7[:2] = [\"mango\"]\n",
    "\n",
    "print(List7)"
   ]
  },
  {
   "cell_type": "markdown",
   "metadata": {},
   "source": [
    "<br>"
   ]
  },
  {
   "cell_type": "markdown",
   "metadata": {},
   "source": [
    "## <center>List Methods</center>\n",
    "<a id = 'obj4'></a>"
   ]
  },
  {
   "cell_type": "markdown",
   "metadata": {},
   "source": [
    "### Insert Method \n",
    "Insert Method is used for inserting items in a list at a specific index"
   ]
  },
  {
   "cell_type": "code",
   "execution_count": 15,
   "metadata": {},
   "outputs": [
    {
     "name": "stdout",
     "output_type": "stream",
     "text": [
      "['apple', 'cherry', 'mango', 'apple', 'cherry', 1, 1, 2, 2]\n"
     ]
    }
   ],
   "source": [
    "#Example\n",
    "List7 = [\"apple\" , \"cherry\", \"apple\", \"cherry\", 1 , 1 , 2 , 2 ]\n",
    "List7.insert(2, \"mango\") # insert(index, value)\n",
    "print(List7)"
   ]
  },
  {
   "cell_type": "markdown",
   "metadata": {},
   "source": [
    "### Append Method\n",
    "\n",
    "To add an item at the end of the list then we use append() method\n"
   ]
  },
  {
   "cell_type": "code",
   "execution_count": 16,
   "metadata": {},
   "outputs": [
    {
     "name": "stdout",
     "output_type": "stream",
     "text": [
      "['apple', 'cherry', 'apple', 'cherry', 1, 1, 2, 2, 'orange']\n"
     ]
    }
   ],
   "source": [
    "List7 = [\"apple\" , \"cherry\", \"apple\", \"cherry\", 1 , 1 , 2 , 2 ]\n",
    "List7.append(\"orange\")\n",
    "print(List7)"
   ]
  },
  {
   "cell_type": "markdown",
   "metadata": {},
   "source": [
    "### Remove Method\n",
    "\n",
    "Remove Method is used for removing **first** occurance of a specified item."
   ]
  },
  {
   "cell_type": "code",
   "execution_count": 17,
   "metadata": {},
   "outputs": [
    {
     "name": "stdout",
     "output_type": "stream",
     "text": [
      "['apple', 'apple', 'cherry', 1, 1, 2, 2]\n"
     ]
    }
   ],
   "source": [
    "#Example \n",
    "List7 = [\"apple\" , \"cherry\", \"apple\", \"cherry\", 1 , 1 , 2 , 2 ]\n",
    "List7.remove(\"cherry\")\n",
    "print(List7)"
   ]
  },
  {
   "cell_type": "markdown",
   "metadata": {},
   "source": [
    "### Pop Method\n",
    "\n",
    "To remove an item from a list using index we can use **pop(index)** function.\n",
    "\n",
    "By defaut index value is -1 i.e. last element of list"
   ]
  },
  {
   "cell_type": "code",
   "execution_count": 18,
   "metadata": {
    "scrolled": true
   },
   "outputs": [
    {
     "name": "stdout",
     "output_type": "stream",
     "text": [
      "['apple', 'cherry', 'apple', 'cherry', 1, 1, 2]\n"
     ]
    }
   ],
   "source": [
    "List7 = [\"apple\" , \"cherry\", \"apple\", \"cherry\", 1 , 1 , 2 , 2 ]\n",
    "List7.pop()\n",
    "print(List7)"
   ]
  },
  {
   "cell_type": "markdown",
   "metadata": {},
   "source": [
    "### Sort Method\n",
    "To sort the list inplace we can use **sort(reverse,key)** method\n"
   ]
  },
  {
   "cell_type": "code",
   "execution_count": 19,
   "metadata": {},
   "outputs": [
    {
     "name": "stdout",
     "output_type": "stream",
     "text": [
      "[1, 2, 3, 5, 6, 8, 8, 9]\n"
     ]
    }
   ],
   "source": [
    "List9 = [1, 5,8,6, 9, 8, 3, 2]\n",
    "List9.sort()\n",
    "print(List9)"
   ]
  },
  {
   "cell_type": "markdown",
   "metadata": {},
   "source": [
    "Sort Descending:<br>\n",
    "To sort descending, use the keyword argument reverse = True <br>\n",
    "To sort ascending, use the keyword argument reverse = False {by default}"
   ]
  },
  {
   "cell_type": "code",
   "execution_count": 20,
   "metadata": {},
   "outputs": [
    {
     "name": "stdout",
     "output_type": "stream",
     "text": [
      "['Grapes', 'Dragon Fruite', 'Cherry', 'Apple']\n"
     ]
    }
   ],
   "source": [
    "List8 = [\"Apple\" , \"Dragon Fruite\", \"Grapes\", \"Cherry\"]\n",
    "List8.sort(reverse = True)\n",
    "print(List8)"
   ]
  },
  {
   "cell_type": "markdown",
   "metadata": {},
   "source": [
    "### Reverse Method\n",
    "To reverse a list"
   ]
  },
  {
   "cell_type": "code",
   "execution_count": 21,
   "metadata": {},
   "outputs": [
    {
     "name": "stdout",
     "output_type": "stream",
     "text": [
      "['Cherry', 'Grapes', 'Dragon Fruite', 'Apple']\n"
     ]
    }
   ],
   "source": [
    "List8 = [\"Apple\" , \"Dragon Fruite\", \"Grapes\", \"Cherry\"]\n",
    "List8.reverse()\n",
    "print(List8)"
   ]
  },
  {
   "cell_type": "markdown",
   "metadata": {},
   "source": [
    "### Copy List Method\n",
    "There are two ways for copying a list.<br>\n",
    "* One way is to use the built-in List method copy().<br>\n",
    "* Another way to make a copy is to use the built-in method list().<br>\n",
    "<br>\n",
    "\n",
    "*Note: You cannot copy a list simply by typing list2 = list1, because: list2 will only be a **reference to list1**, and **changes made in list1 will automatically also be made in list2**.*"
   ]
  },
  {
   "cell_type": "code",
   "execution_count": 22,
   "metadata": {},
   "outputs": [
    {
     "name": "stdout",
     "output_type": "stream",
     "text": [
      "['Apple', 'Dragon Fruite', 'Grapes', 'Cherry']\n",
      "['Apple', 'Dragon Fruite', 'Grapes', 'Cherry']\n"
     ]
    }
   ],
   "source": [
    "# Call by Value\n",
    "\n",
    "List8 = [\"Apple\" , \"Dragon Fruite\", \"Grapes\", \"Cherry\"]\n",
    "List9 = List8.copy()\n",
    "print(List9)\n",
    "List8[1] = 'Strawberry'\n",
    "print(List9)"
   ]
  },
  {
   "cell_type": "code",
   "execution_count": 23,
   "metadata": {},
   "outputs": [
    {
     "name": "stdout",
     "output_type": "stream",
     "text": [
      "['Apple', 'Dragon Fruite', 'Grapes', 'Cherry']\n",
      "['Apple', 'Strawberry', 'Grapes', 'Cherry']\n"
     ]
    }
   ],
   "source": [
    "# Call By Refrence\n",
    "\n",
    "List9 = ['Apple', 'Dragon Fruite', 'Grapes', 'Cherry']\n",
    "List10 = List9\n",
    "print(List10)\n",
    "List9[1]  = 'Strawberry' # change value in List9\n",
    "print(List10) # List 10 automatically changed by any changes in List9"
   ]
  },
  {
   "cell_type": "markdown",
   "metadata": {},
   "source": [
    "### Merge Lists\n",
    "There are several ways to join, or concatenate, two or more lists in Python.<br>\n",
    "* One of the easiest ways are by using the + operator.<br>\n",
    "* Another way to join two lists is to use the extend() method to add list:"
   ]
  },
  {
   "cell_type": "code",
   "execution_count": 24,
   "metadata": {},
   "outputs": [
    {
     "name": "stdout",
     "output_type": "stream",
     "text": [
      "['a', 'b', 'c', 1, 2, 3]\n"
     ]
    }
   ],
   "source": [
    "list11 = [\"a\", \"b\", \"c\"]\n",
    "list12 = [1, 2, 3]\n",
    "\n",
    "list13 = list11 + list12\n",
    "print(list13)"
   ]
  },
  {
   "cell_type": "code",
   "execution_count": 25,
   "metadata": {},
   "outputs": [
    {
     "name": "stdout",
     "output_type": "stream",
     "text": [
      "['a', 'b', 'c', 1, 2, 3]\n"
     ]
    }
   ],
   "source": [
    "list11 = [\"a\", \"b\", \"c\"]\n",
    "list12 = [1, 2, 3]\n",
    "\n",
    "list11.extend(list12)\n",
    "print(list11)"
   ]
  },
  {
   "cell_type": "markdown",
   "metadata": {},
   "source": [
    "# <center>END</center>"
   ]
  }
 ],
 "metadata": {
  "kernelspec": {
   "display_name": "Python 3",
   "language": "python",
   "name": "python3"
  },
  "language_info": {
   "codemirror_mode": {
    "name": "ipython",
    "version": 3
   },
   "file_extension": ".py",
   "mimetype": "text/x-python",
   "name": "python",
   "nbconvert_exporter": "python",
   "pygments_lexer": "ipython3",
   "version": "3.7.6"
  }
 },
 "nbformat": 4,
 "nbformat_minor": 4
}
