{
 "cells": [
  {
   "cell_type": "markdown",
   "id": "92681daf",
   "metadata": {},
   "source": [
    "## Python Workshop\n",
    "\n",
    "                                                                                        -- Module: Dictionaries "
   ]
  },
  {
   "cell_type": "markdown",
   "id": "e6b310e1",
   "metadata": {},
   "source": [
    "## Dictionaries\n",
    "\n",
    "### What are Dictionaries?\n",
    "Dictionary in Python is an ***unordered*** collection of data values, used to store data values like a map, that holds ```key : value``` pair, where each ***key*** is a ***unique*** element"
   ]
  },
  {
   "cell_type": "markdown",
   "id": "f4a60955",
   "metadata": {},
   "source": [
    "### Initialising Dictionay\n",
    "\n",
    "In Python, we can initialise dictionary by either using ```{}``` or ```dict()``` function"
   ]
  },
  {
   "cell_type": "code",
   "execution_count": 28,
   "id": "cc38dde1",
   "metadata": {},
   "outputs": [
    {
     "name": "stdout",
     "output_type": "stream",
     "text": [
      "{'key1': 'val1', 'key2': ('tup1', 'tup2', 'tup3')}\n",
      "{'key3': 'val3', 'key4': [1, 2, 3]}\n"
     ]
    }
   ],
   "source": [
    "my_dict = {\n",
    "    'key1': 'val1',\n",
    "    'key2': ('tup1','tup2','tup3')\n",
    "}\n",
    "\n",
    "new_dict = dict([('key3','val3'),('key4',[1,2,3])])\n",
    "\n",
    "print(my_dict, new_dict, sep=\"\\n\")"
   ]
  },
  {
   "cell_type": "markdown",
   "id": "d60f3023",
   "metadata": {},
   "source": [
    "### Accessing Dictionary Items\n",
    "\n",
    "All the values in ```dict()``` are accessed by their corresponding ```key```."
   ]
  },
  {
   "cell_type": "code",
   "execution_count": 29,
   "id": "76d960e9",
   "metadata": {},
   "outputs": [
    {
     "data": {
      "text/plain": [
       "('tup1', 'tup2', 'tup3')"
      ]
     },
     "execution_count": 29,
     "metadata": {},
     "output_type": "execute_result"
    }
   ],
   "source": [
    "my_dict['key2']"
   ]
  },
  {
   "cell_type": "markdown",
   "id": "bb81c504",
   "metadata": {},
   "source": [
    "### Get all keys from Dictionary\n",
    "We can use ```.keys()``` method to get a **list** of all keys in the list."
   ]
  },
  {
   "cell_type": "code",
   "execution_count": 30,
   "id": "7ea3483c",
   "metadata": {},
   "outputs": [
    {
     "name": "stdout",
     "output_type": "stream",
     "text": [
      "dict_keys(['key1', 'key2'])\n"
     ]
    }
   ],
   "source": [
    "print(my_dict.keys())"
   ]
  },
  {
   "cell_type": "markdown",
   "id": "dfedb775",
   "metadata": {},
   "source": [
    "### Get all values from Dictionary\n",
    "We can use ```.values()``` method to get a **list** of all values in the list."
   ]
  },
  {
   "cell_type": "code",
   "execution_count": 31,
   "id": "6c062e6f",
   "metadata": {},
   "outputs": [
    {
     "name": "stdout",
     "output_type": "stream",
     "text": [
      "dict_values(['val3', [1, 2, 3]])\n"
     ]
    }
   ],
   "source": [
    "print(new_dict.values())"
   ]
  },
  {
   "cell_type": "markdown",
   "id": "9f89ae9e",
   "metadata": {},
   "source": [
    "### Add Item in Dict\n",
    "\n",
    "To add an item in dict we can use following syntax:\n",
    "   >```dict[new_key] = value```"
   ]
  },
  {
   "cell_type": "code",
   "execution_count": 32,
   "id": "a1349a0b",
   "metadata": {},
   "outputs": [
    {
     "name": "stdout",
     "output_type": "stream",
     "text": [
      "{'key1': 'val1', 'key2': ('tup1', 'tup2', 'tup3'), 3: 'We can use any obj as key or value'}\n"
     ]
    }
   ],
   "source": [
    "my_dict[3] = \"We can use any obj as key or value\"\n",
    "\n",
    "print(my_dict)"
   ]
  },
  {
   "cell_type": "markdown",
   "id": "ebe3b614",
   "metadata": {},
   "source": [
    "### Update Item in Dict\n",
    "To update an existing key we can use ```.update({key:new_val})``` method or we can simply re-add the key and Python instinctively removes the existing key and replace it with new one."
   ]
  },
  {
   "cell_type": "code",
   "execution_count": 33,
   "id": "0a5fd9b6",
   "metadata": {},
   "outputs": [
    {
     "name": "stdout",
     "output_type": "stream",
     "text": [
      "{'key1': 'val1', 'key2': ('tup1', 'tup2', 'tup3'), 3: 'Updated'}\n",
      "{'key1': 'val1', 'key2': ('tup1', 'tup2', 'tup3'), 3: 'This works too!!'}\n"
     ]
    }
   ],
   "source": [
    "my_dict.update({3:'Updated'})\n",
    "print(my_dict)\n",
    "\n",
    "my_dict[3] = 'This works too!!'\n",
    "print(my_dict)"
   ]
  },
  {
   "cell_type": "markdown",
   "id": "011b1159",
   "metadata": {},
   "source": [
    "### Remove Item from Dict\n",
    "\n",
    "We can use ```.pop(key)``` method to remove item from dict."
   ]
  },
  {
   "cell_type": "code",
   "execution_count": 34,
   "id": "8d640a79",
   "metadata": {},
   "outputs": [
    {
     "name": "stdout",
     "output_type": "stream",
     "text": [
      "{'key1': 'val1', 3: 'This works too!!'}\n"
     ]
    }
   ],
   "source": [
    "my_dict.pop('key2')\n",
    "print(my_dict)"
   ]
  },
  {
   "cell_type": "markdown",
   "id": "246ae85a",
   "metadata": {},
   "source": [
    "### Clear Dict\n",
    "To remove **all** the items from dict. "
   ]
  },
  {
   "cell_type": "code",
   "execution_count": 35,
   "id": "4a3d8f74",
   "metadata": {},
   "outputs": [
    {
     "name": "stdout",
     "output_type": "stream",
     "text": [
      "{}\n"
     ]
    }
   ],
   "source": [
    "new_dict.clear()\n",
    "print(new_dict)"
   ]
  },
  {
   "cell_type": "markdown",
   "id": "e9e07eb0",
   "metadata": {},
   "source": [
    "### Put Defaut Values in dict\n",
    "Whenever we access an undefined key in dict it will throw an error, to counter this Python provides a method to initiate undefined keys with some default value using ```.setdefault()``` method.\n",
    ">```dictionary.setdefault(keyname, default_value)```"
   ]
  },
  {
   "cell_type": "code",
   "execution_count": 39,
   "id": "a79e8a7d",
   "metadata": {},
   "outputs": [
    {
     "name": "stdout",
     "output_type": "stream",
     "text": [
      "This works too!!\n",
      "{'key1': 'val1', 3: 'This works too!!', 4: 'Newly Added key'}\n"
     ]
    }
   ],
   "source": [
    "print(my_dict.setdefault(3,'Newly Added Key')) # Since the key \"3\" already exist in dict, it will return its true value\n",
    "\n",
    "my_dict.setdefault(4,'Newly Added key') # Since the '4' doesnot exist in dict, it will be initiated with default value\n",
    "\n",
    "print(my_dict)"
   ]
  },
  {
   "cell_type": "markdown",
   "id": "7f62ebc2",
   "metadata": {},
   "source": [
    "### Copy a dictionary\n",
    "To create a **deep copy** of a dict in python we can either use ```.copy()``` method or ```dict(dictionary_name)``` function"
   ]
  },
  {
   "cell_type": "code",
   "execution_count": 41,
   "id": "f65aa570",
   "metadata": {},
   "outputs": [],
   "source": [
    "my_dict2 = my_dict.copy()\n",
    "my_dict3 = dict(my_dict)"
   ]
  },
  {
   "cell_type": "code",
   "execution_count": 44,
   "id": "afb2525f",
   "metadata": {},
   "outputs": [
    {
     "name": "stdout",
     "output_type": "stream",
     "text": [
      "{'key1': 'val1', 3: 'This works too!!', 4: 'Newly Added key'}\n",
      "{'key1': 'val1', 3: 'This works too!!', 4: 'Newly Added key'}\n"
     ]
    }
   ],
   "source": [
    "# Since we are creating a clone of original values, any change after the assignment won't affect the deep copies of dict\n",
    "my_dict[5] = 'New Entry'\n",
    "\n",
    "print(my_dict2,my_dict3, sep = '\\n')"
   ]
  },
  {
   "cell_type": "markdown",
   "id": "df77d78d",
   "metadata": {},
   "source": [
    "### <center>END</center>"
   ]
  }
 ],
 "metadata": {
  "kernelspec": {
   "display_name": "Python 3",
   "language": "python",
   "name": "python3"
  },
  "language_info": {
   "codemirror_mode": {
    "name": "ipython",
    "version": 3
   },
   "file_extension": ".py",
   "mimetype": "text/x-python",
   "name": "python",
   "nbconvert_exporter": "python",
   "pygments_lexer": "ipython3",
   "version": "3.8.8"
  }
 },
 "nbformat": 4,
 "nbformat_minor": 5
}
