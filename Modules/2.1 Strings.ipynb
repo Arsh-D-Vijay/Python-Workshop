{
 "cells": [
  {
   "cell_type": "markdown",
   "id": "f76ac62e",
   "metadata": {},
   "source": [
    "## Python Workshop\n",
    "                                                                                          -- Module: Strings"
   ]
  },
  {
   "cell_type": "markdown",
   "id": "f7e40fc3",
   "metadata": {},
   "source": [
    "## Strings\n",
    "\n",
    "### What are strings?\n",
    "- It is the sequence of Unicode characters wrapped inside single, double, or triple quotes.\n",
    "- It is an immutable sequence datatype\n"
   ]
  },
  {
   "cell_type": "markdown",
   "id": "38fad5cc",
   "metadata": {},
   "source": [
    "### Initialising Strings \n",
    "In python we can initialise strings either by using ```''``` or ```\"\"``` or ```str()``` function.<br>\n"
   ]
  },
  {
   "cell_type": "code",
   "execution_count": 1,
   "id": "d5e6fd1f",
   "metadata": {},
   "outputs": [
    {
     "name": "stdout",
     "output_type": "stream",
     "text": [
      "Empty String : ''\n",
      "Assigned String: Test Case\n"
     ]
    }
   ],
   "source": [
    "# Assigning a string to a variable\n",
    "\n",
    "Empty_string = str()\n",
    "a = \"Test Case\"\n",
    "\n",
    "print(f\"Empty String : '{Empty_string}'\" ,f\"Assigned String: {a}\",sep = '\\n')"
   ]
  },
  {
   "cell_type": "markdown",
   "id": "2972a753",
   "metadata": {},
   "source": [
    "For Multi-line strings we can use either ```\"\"\" \"\"\"``` or ```''' '''```. \n",
    "\n",
    "Tip : To write a long continuous strings use ```\\```   to break the string to make it more representable."
   ]
  },
  {
   "cell_type": "code",
   "execution_count": 2,
   "id": "7e6ddcac",
   "metadata": {},
   "outputs": [
    {
     "name": "stdout",
     "output_type": "stream",
     "text": [
      "It is a long established fact that a reader will be distracted by the readable content of a page when looking at its layout. The point of using Lorem Ipsum is that it has a more-or-less normal distribution of letters, as opposed to using 'Content here, content here', making it look like readable English. Many desktop publishing packages and web page editors now use Lorem Ipsum as their default model text, and a search for 'lorem ipsum' will uncover many web sites still in their infancy.Various versions have evolved over the years.\n"
     ]
    }
   ],
   "source": [
    "# Multiline String or Paragraphs\n",
    "\n",
    "para = '''\\\n",
    "It is a long established fact that a reader will be distracted by the readable \\\n",
    "content of a page when looking at its layout. The point of using Lorem Ipsum is that \\\n",
    "it has a more-or-less normal distribution of letters, as opposed to using 'Content here, \\\n",
    "content here', making it look like readable English. Many desktop publishing packages and \\\n",
    "web page editors now use Lorem Ipsum as their default model text, and a search for 'lorem ipsum' \\\n",
    "will uncover many web sites still in their infancy.Various versions have evolved over the years.\\\n",
    "'''\n",
    "\n",
    "print(para)"
   ]
  },
  {
   "cell_type": "markdown",
   "id": "7db332d3",
   "metadata": {},
   "source": [
    "### Accessing String\n",
    "In python Indexing starts from 0, So to access the i<sup>th</sup> element we have to use index ```i-1```"
   ]
  },
  {
   "cell_type": "code",
   "execution_count": 3,
   "id": "951ffa47",
   "metadata": {},
   "outputs": [
    {
     "name": "stdout",
     "output_type": "stream",
     "text": [
      "The third char in 'Test Case' is 's'.\n"
     ]
    }
   ],
   "source": [
    "print(f\"The third char in '{a}' is '{a[2]}'.\")"
   ]
  },
  {
   "cell_type": "markdown",
   "id": "aca800a5",
   "metadata": {},
   "source": [
    "### String Slicing\n",
    "To access a range of elements from string we can use slicing.<br>\n",
    "In Slicing the first parameter is treated as **starting point** *(Inclusive)*, second parameter as **Ending poin** *(Exclusive)* and last parameter as **steps** or increment.\n",
    "\n",
    "**Note: By Default starting point is ```0```, Ending point is ```length of string``` and steps is ```1```**"
   ]
  },
  {
   "cell_type": "code",
   "execution_count": 4,
   "id": "0ab7761b",
   "metadata": {},
   "outputs": [
    {
     "name": "stdout",
     "output_type": "stream",
     "text": [
      "Tes\n"
     ]
    }
   ],
   "source": [
    "print(a[:3:]) # Print First 3 char of a"
   ]
  },
  {
   "cell_type": "markdown",
   "id": "bc8b453b",
   "metadata": {},
   "source": [
    "### Length of String"
   ]
  },
  {
   "cell_type": "code",
   "execution_count": 5,
   "id": "6d2f978d",
   "metadata": {},
   "outputs": [
    {
     "name": "stdout",
     "output_type": "stream",
     "text": [
      "Above para has 536 chars.\n"
     ]
    }
   ],
   "source": [
    "# length of a string ( Find the length of above para)\n",
    "print(f\"Above para has {len(para)} chars.\")"
   ]
  },
  {
   "cell_type": "code",
   "execution_count": 6,
   "id": "bd8b581e",
   "metadata": {},
   "outputs": [
    {
     "name": "stdout",
     "output_type": "stream",
     "text": [
      "length mismatch\n"
     ]
    }
   ],
   "source": [
    "a = '''Test\n",
    "1'''\n",
    "b = '''Test\\\n",
    "2'''\n",
    "\n",
    "# Does len(a) == len(b)?\n",
    "\n",
    "if len(a) == len(b):\n",
    "    print(\"They are of same length\")\n",
    "else:\n",
    "    print(\"length mismatch\")"
   ]
  },
  {
   "cell_type": "code",
   "execution_count": 7,
   "id": "e071b56a",
   "metadata": {},
   "outputs": [
    {
     "name": "stdout",
     "output_type": "stream",
     "text": [
      "length of a: 6\n",
      "length of b: 5\n"
     ]
    }
   ],
   "source": [
    "# Can you guess, Why? \n",
    "# Whose length is bigger a or b?\n",
    "\n",
    "print(\"length of a:\", len(a)) \n",
    "print(\"length of b:\", len(b))"
   ]
  },
  {
   "cell_type": "markdown",
   "id": "f3a211da",
   "metadata": {},
   "source": [
    "Explanation : As mentioned before in paragraph string ```\\ ``` is not recognised as character by python. "
   ]
  },
  {
   "cell_type": "markdown",
   "id": "1b34a160",
   "metadata": {},
   "source": [
    "### Some Common String Methods"
   ]
  },
  {
   "cell_type": "code",
   "execution_count": 8,
   "id": "bb9ab176",
   "metadata": {},
   "outputs": [
    {
     "name": "stdout",
     "output_type": "stream",
     "text": [
      "36\n"
     ]
    }
   ],
   "source": [
    "# count()\tCounts the occurance of a char in a string\n",
    "print(para.count(\"a\"))"
   ]
  },
  {
   "cell_type": "markdown",
   "id": "567744f6",
   "metadata": {},
   "source": [
    "Notice that para is a variable and we are using ```.``` orperator and using ```count``` function.\n",
    "\n",
    "Here count is a method of string class and since ```para``` is a instance of a string data type it has inherited count method.\n",
    "\n",
    "Rule of thumb is if you see ```()``` it is either a function or a method, if it has a ```.``` followed by a function call. It is a method."
   ]
  },
  {
   "cell_type": "code",
   "execution_count": 9,
   "id": "ed273f4d",
   "metadata": {},
   "outputs": [
    {
     "name": "stdout",
     "output_type": "stream",
     "text": [
      "healo\n"
     ]
    }
   ],
   "source": [
    "x = \"hello\"\n",
    "\n",
    "# replace() \t Replace a part of string to another string n times, By default n = -1 i.e. all occurance to be replaced\n",
    "\n",
    "print(x.replace(\"l\",\"a\",1)) "
   ]
  },
  {
   "cell_type": "code",
   "execution_count": 10,
   "id": "f2c653e1",
   "metadata": {},
   "outputs": [
    {
     "name": "stdout",
     "output_type": "stream",
     "text": [
      "Capitalize:  Hello\n",
      "\n"
     ]
    }
   ],
   "source": [
    "# capitalize()\tConverts the first character to upper case\n",
    "\n",
    "print('Capitalize: ',x.capitalize(), end = \"\\n\\n\")"
   ]
  },
  {
   "cell_type": "code",
   "execution_count": 11,
   "id": "8170e07a",
   "metadata": {},
   "outputs": [
    {
     "name": "stdout",
     "output_type": "stream",
     "text": [
      "Found first occurance of 'l' at index  2\n",
      "\n"
     ]
    }
   ],
   "source": [
    "# find()\tSearches the string for a specified value and returns the position of where it was found first\n",
    "\n",
    "print(f\"Found first occurance of 'l' at index \",x.find('l'), end = \"\\n\\n\")"
   ]
  },
  {
   "cell_type": "code",
   "execution_count": 12,
   "id": "a6e42625",
   "metadata": {},
   "outputs": [
    {
     "name": "stdout",
     "output_type": "stream",
     "text": [
      "['Hello', 'world']\n",
      "\n"
     ]
    }
   ],
   "source": [
    "#split()\tSplits the string with a specified separator {By default:\" \" Blank_Space}, and returns a list\n",
    "\n",
    "y = \"Hello world\"\n",
    "print(y.split(), end = \"\\n\\n\")"
   ]
  },
  {
   "cell_type": "code",
   "execution_count": 13,
   "id": "e59d4788",
   "metadata": {},
   "outputs": [
    {
     "name": "stdout",
     "output_type": "stream",
     "text": [
      "All Capital:  HELLO\n",
      "\n"
     ]
    }
   ],
   "source": [
    "# upper()\tConverts all chars of string into upper case \n",
    "\n",
    "print(\"All Capital: \",x.upper(), end = \"\\n\\n\")"
   ]
  },
  {
   "cell_type": "code",
   "execution_count": 14,
   "id": "25ccdc57",
   "metadata": {},
   "outputs": [
    {
     "name": "stdout",
     "output_type": "stream",
     "text": [
      "All Lower:  hello\n",
      "\n"
     ]
    }
   ],
   "source": [
    "# lower()\tConverts all string into lower case\n",
    "\n",
    "print(\"All Lower: \",x.lower(), end = \"\\n\\n\")"
   ]
  },
  {
   "cell_type": "code",
   "execution_count": 15,
   "id": "0456f0a7",
   "metadata": {},
   "outputs": [
    {
     "name": "stdout",
     "output_type": "stream",
     "text": [
      "original length: 31\n",
      "\n",
      "stripped length: 21\n"
     ]
    }
   ],
   "source": [
    "# strip()\tstrip method for removing whitespaces \n",
    "\n",
    "a= '   too much memory usage       '\n",
    "print(\"original length:\", len(a), end = '\\n\\n')\n",
    "b = a.strip()\n",
    "print(\"stripped length:\", len(b))"
   ]
  },
  {
   "cell_type": "markdown",
   "id": "32c1aef4",
   "metadata": {},
   "source": [
    "***Above are some most frequently used strings method, to know more about all methods of strings refer*** **<a href = 'https://docs.python.org/3/library/stdtypes.html#string-methods'>here.</a>**"
   ]
  },
  {
   "cell_type": "markdown",
   "id": "7aebe591",
   "metadata": {},
   "source": [
    "### Formatted Strings\n",
    "\n",
    "A formatted string literal or f-string is a string literal that is prefixed with 'f' or 'F'. These strings may contain replacement fields, which are expressions delimited by curly braces {}. While other string literals always have a constant value, formatted strings are really expressions evaluated at run time. \n",
    "\n",
    "To create an f-string, prefix the string with the letter “ f ”. F-strings provide a concise and convenient way to embed python expressions inside string literals for formatting. "
   ]
  },
  {
   "cell_type": "code",
   "execution_count": 16,
   "id": "a341e536",
   "metadata": {},
   "outputs": [
    {
     "name": "stdout",
     "output_type": "stream",
     "text": [
      "Pyhton is a popular programming language. It was created by Guido van Rossum, and released in 1991..\n",
      "\n",
      "Hello, My name is Tushar and I'm 23 years old.\n"
     ]
    }
   ],
   "source": [
    "val = 'Pyhton'\n",
    "print(f\"{val} is a popular programming language. It was created by Guido van Rossum, and released in 1991..\",end = '\\n\\n')\n",
    " \n",
    "name = 'Tushar'\n",
    "age = 23\n",
    "print(f\"Hello, My name is {name} and I'm {age} years old.\")"
   ]
  },
  {
   "cell_type": "code",
   "execution_count": 17,
   "id": "10f79c2b",
   "metadata": {},
   "outputs": [
    {
     "name": "stdout",
     "output_type": "stream",
     "text": [
      "Vatsal  , Hi there\n",
      "\n",
      "   1245647, wow thats a big number!\n"
     ]
    }
   ],
   "source": [
    "# printing text\n",
    "name = 'Vatsal'\n",
    "print(f'{name:8}, Hi there',end = '\\n\\n')\n",
    "\n",
    "# works with numbers too\n",
    "big_number = 1245647\n",
    "print(f'{big_number:10}, wow thats a big number!')"
   ]
  },
  {
   "cell_type": "markdown",
   "id": "ab16123c",
   "metadata": {},
   "source": [
    "Noticed the number aligned right like it does in excel.\n",
    "\n",
    "We can force align text and numbers using:\n",
    "- ```<``` :Left align\n",
    "- ```>``` :Right align\n",
    "- ```^``` :Center align"
   ]
  },
  {
   "cell_type": "code",
   "execution_count": 18,
   "id": "6863f44d",
   "metadata": {},
   "outputs": [
    {
     "name": "stdout",
     "output_type": "stream",
     "text": [
      "1245647   , wow thats a big number! but now its left aligned\n"
     ]
    }
   ],
   "source": [
    "big_number = 1245647\n",
    "print(f'{big_number:<10}, wow thats a big number! but now its left aligned')"
   ]
  },
  {
   "cell_type": "markdown",
   "id": "1ed8a6e6",
   "metadata": {},
   "source": [
    "Apart from allignment formatted strings also provides the functionality of rounding off any numeric data"
   ]
  },
  {
   "cell_type": "code",
   "execution_count": 19,
   "id": "de05c334",
   "metadata": {},
   "outputs": [
    {
     "name": "stdout",
     "output_type": "stream",
     "text": [
      "12345.000\n",
      "123.13\n"
     ]
    }
   ],
   "source": [
    "num = 12345\n",
    "float_num = 123.1294\n",
    "\n",
    "print(f'{num:.3f}')\n",
    "print(f'{float_num:.2f}')"
   ]
  }
 ],
 "metadata": {
  "kernelspec": {
   "display_name": "Python 3",
   "language": "python",
   "name": "python3"
  },
  "language_info": {
   "codemirror_mode": {
    "name": "ipython",
    "version": 3
   },
   "file_extension": ".py",
   "mimetype": "text/x-python",
   "name": "python",
   "nbconvert_exporter": "python",
   "pygments_lexer": "ipython3",
   "version": "3.8.8"
  }
 },
 "nbformat": 4,
 "nbformat_minor": 5
}
