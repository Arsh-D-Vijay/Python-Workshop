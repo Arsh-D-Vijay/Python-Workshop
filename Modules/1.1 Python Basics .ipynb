{
 "cells": [
  {
   "cell_type": "markdown",
   "id": "ad54cfe2",
   "metadata": {},
   "source": [
    "# Python Workshop\n",
    "                                                                                        -- Module 1: Introduction to Python\n",
    "<hr>"
   ]
  },
  {
   "cell_type": "markdown",
   "id": "de35f5d8",
   "metadata": {},
   "source": [
    "\n",
    "### *Flow of Course*\n",
    "\n",
    "\n",
    "- ***[What is Pyhton](#obj1)***\n",
    "- ***[I/O Function in Python](#obj2)***\n",
    "- ***[Variables & Comments](#obj3)*** \n",
    "- ***[Data Types](#obj4)***\n",
    "- ***[Type Casting](#obj5)***"
   ]
  },
  {
   "cell_type": "markdown",
   "id": "8926788b",
   "metadata": {},
   "source": [
    "<a id = 'obj1'></a>\n",
    "\n",
    "### What is Python?\n",
    "Python is a popular programming language. It was created by ***Guido van Rossum***, and released in ***1991***.\n",
    "\n",
    "It is used for:\n",
    "- **Web Development** (server-side), [Django, Flask]\n",
    "- **Software Development**, [TurboGear, Cherrypy]\n",
    "- **Statistical Analysis** , [Pandas, Numpy, TensorFlow]\n",
    "- **System Scripting**.\n",
    "\n",
    "### What can Python do?\n",
    "- Python can be used on a server to create **web applications**.\n",
    "- Python can be used alongside software to create workflows.\n",
    "- Python can **connect** to database systems. It can also **read and modify** files.\n",
    "- Python can be used to handle **big data** and perform complex mathematics.\n",
    "- Python can be used for rapid **prototyping**, or for production-ready software development.\n",
    "\n",
    "### Why Python?\n",
    "- Python works on ***different platforms*** (Windows, Mac, Linux, Raspberry Pi, etc).\n",
    "- Python has a ***simple*** syntax similar to the English language.\n",
    "- Python has syntax that allows developers to write programs with ***fewer lines*** than some other programming languages.\n",
    "- Python runs on an ***interpreter system***, meaning that code can be executed as soon as it is written. This means that prototyping can be very quick.\n",
    "- Python can be treated in a procedural way, an object-oriented way or a functional way."
   ]
  },
  {
   "cell_type": "markdown",
   "id": "760870f5",
   "metadata": {},
   "source": [
    "<hr>\n",
    "\n",
    "## Basics of Python\n",
    "\n"
   ]
  },
  {
   "cell_type": "markdown",
   "id": "34d83ab3",
   "metadata": {},
   "source": [
    "<a id= 'obj2'></a>\n",
    "\n",
    "### I/O function in Python\n",
    "\n",
    "Lets start with the **\"Hello World\"** of python. \n",
    "\n",
    "To print in python we will use the ```print()``` function. The **print()** function prints the specified message to the screen, or other standard output device.\n",
    "\n",
    "\n",
    "To take an input in python we will use ```input()``` function. The **input()** takes input as a string which we can be typecasted into desired data type for further processing."
   ]
  },
  {
   "cell_type": "code",
   "execution_count": 50,
   "id": "dc3de3fc",
   "metadata": {},
   "outputs": [
    {
     "name": "stdout",
     "output_type": "stream",
     "text": [
      "Hello World\n"
     ]
    }
   ],
   "source": [
    "print(\"Hello World\")"
   ]
  },
  {
   "cell_type": "code",
   "execution_count": 51,
   "id": "1a1b9033",
   "metadata": {},
   "outputs": [
    {
     "name": "stdout",
     "output_type": "stream",
     "text": [
      "How you doin'?\n",
      "1  2  3 \n",
      "1, 2, 3\n",
      "By default this function will end with new line i.e. '\\n'.\n",
      "But we can change this, using end parameter\n"
     ]
    }
   ],
   "source": [
    "# for printing more then one value\n",
    "print(\"How\", \"you\", \"doin'?\")\n",
    "\n",
    "# use sep parameter to change the deafualt seperator between two values\n",
    "print(\"1 \",\"2 \",\"3 \")\n",
    "print(\"1\",\"2\",\"3\", sep=', ')\n",
    "\n",
    "# use end parameter to change the default ending\n",
    "print(r\"By default this function will end with new line i.e. '\\n'.\") # the \"r\" represent raw string i.e. we are telling \n",
    "                                                                     # python to print the string as it is. \n",
    "print(\"But we can change this\", end = ', ')\n",
    "print(\"using end parameter\")"
   ]
  },
  {
   "cell_type": "code",
   "execution_count": 52,
   "id": "d253d607",
   "metadata": {},
   "outputs": [
    {
     "name": "stdout",
     "output_type": "stream",
     "text": [
      "**This is the promt message!!**, Enter your Name:  Sumit Pandey\n",
      "Hey Sumit Pandey its very nice to meet you.\n"
     ]
    }
   ],
   "source": [
    "name = input(\"**This is the promt message!!**, Enter your Name:  \")\n",
    "\n",
    "print(\"Hey\", name ,'its very nice to meet you.')"
   ]
  },
  {
   "cell_type": "markdown",
   "id": "6f321460",
   "metadata": {},
   "source": [
    "------------------------------------------------------------------------------\n",
    "<a id = 'obj3'></a>\n",
    "\n",
    "### Variables\n",
    "\n",
    "Variables are containers for storing data values. Think of them as boxes in which you can place any item, replace the said item, check which item is stored or make the insides of it empty.\n",
    "\n",
    "This analogy will not perfectly fit what variables are but will provide a better understanding of _variables_ as a concept.\n",
    "\n",
    "In python to make a variable (or an empty box) we just need to write the name of the variable. The naming scheme though follows some rules:\n",
    "- A variable name ***must*** start with a **letter** or the **underscore** character\n",
    "- A variable name ***cannot*** start with a **number**.\n",
    "- A variable name ***can only*** contain alpha-numeric characters and underscores (A-z, 0-9, and _ )\n",
    "- Variable names are **case-sensitive** (age, Age and AGE are three different variables)"
   ]
  },
  {
   "cell_type": "code",
   "execution_count": 53,
   "id": "dd039e49",
   "metadata": {},
   "outputs": [
    {
     "name": "stdout",
     "output_type": "stream",
     "text": [
      "5\n",
      "John\n"
     ]
    }
   ],
   "source": [
    "# A variable is created the moment you first assign a value to it\n",
    "# Python has no command for declaring a variable.\n",
    "\n",
    "# Variables do not need to be declared with any particular type, and can even change type after they have been set. \n",
    "# This is called dynamic memory allocation\n",
    "\n",
    "_x = 5\n",
    "y = \"John\"\n",
    "\n",
    "# passing a variable to print function is the same as passing a word in the above section, notice the lack of quotes in case\n",
    "# of passing a variable\n",
    "\n",
    "print(_x)\n",
    "print(y)"
   ]
  },
  {
   "cell_type": "code",
   "execution_count": 54,
   "id": "1182748f",
   "metadata": {},
   "outputs": [
    {
     "name": "stdout",
     "output_type": "stream",
     "text": [
      "Orange\n",
      "Banana\n",
      "Cherry\n"
     ]
    }
   ],
   "source": [
    "# you can also assign multiple values at once\n",
    "\n",
    "x, y, z = \"Orange\", \"Banana\", \"Cherry\"\n",
    "print(x)\n",
    "print(y)\n",
    "print(z)"
   ]
  },
  {
   "cell_type": "code",
   "execution_count": 55,
   "id": "6cd45dee",
   "metadata": {},
   "outputs": [
    {
     "name": "stdout",
     "output_type": "stream",
     "text": [
      "Orange\n",
      "Orange\n",
      "Orange\n"
     ]
    }
   ],
   "source": [
    "# you can assign the same value to multiple variables in one line:\n",
    "\n",
    "x = y = z = \"Orange\" \n",
    "\n",
    "print(x)\n",
    "print(y)\n",
    "print(z)"
   ]
  },
  {
   "cell_type": "markdown",
   "id": "d45ede91",
   "metadata": {},
   "source": [
    "### Comments\n",
    "\n",
    "Comments starts with a ````#```` , and Python will ignore them.\n",
    "\n",
    "Uses of Comments:\n",
    "- Comments can be used to **explain** Python code.\n",
    "- Comments can be used to make the code **more readable**.\n",
    "- Comments can be used to **prevent execution** when testing code."
   ]
  },
  {
   "cell_type": "code",
   "execution_count": 56,
   "id": "b75c336a",
   "metadata": {},
   "outputs": [
    {
     "name": "stdout",
     "output_type": "stream",
     "text": [
      "This is how comments works\n"
     ]
    }
   ],
   "source": [
    "#Multiline Comment:\n",
    "'''\n",
    "Since Python will ignore string literals that are not assigned to a variable, you can add a multiline string (triple quotes)\\\n",
    "in your code, and place your comment inside it:\n",
    "'''\n",
    "# or Use multiple single line\n",
    "\n",
    "# First line\n",
    "# Second line\n",
    "\n",
    "print(\"This is how comments works\")"
   ]
  },
  {
   "cell_type": "markdown",
   "id": "75148532",
   "metadata": {},
   "source": [
    "<hr>\n",
    "<a id = 'obj4'></a>\n",
    "\n",
    "### Python Data Types\n",
    "In programming, data type is an important concept.<br>\n",
    "Variables can store data of different types, and different types can do different things.<br>\n",
    "Python has the following data types built-in by default, in these categories:\n",
    "```\n",
    "Text Type:\t   str\n",
    "Numeric Types:   int, float, complex\n",
    "Sequence Types:  list, tuple, range\n",
    "Mapping Type:\tdict\n",
    "Set Types:\t   set, frozenset\n",
    "Boolean Type:\tbool\n",
    "Binary Types:\tbytes, bytearray, memoryview\n",
    "```"
   ]
  },
  {
   "cell_type": "code",
   "execution_count": 57,
   "id": "613adc00",
   "metadata": {},
   "outputs": [
    {
     "name": "stdout",
     "output_type": "stream",
     "text": [
      "\n",
      "-------------------Data-Types-----------------\n",
      "String:      Hello World!!\n",
      "----------------------------------------------\n",
      "Integer:     1\n",
      "Float:       2.8\n",
      "Complex:     (3+1j)\n",
      "----------------------------------------------\n",
      "List:        ['a', 1, True]\n",
      "Tuple:       (1, 2, 'a')\n",
      "Range:       range(0, 10)\n",
      "----------------------------------------------\n",
      "Dict:        {'key1': 'val1', 3: 'val3'}\n",
      "----------------------------------------------\n",
      "Sets:        {'Uni_2', 'Uni_1'}\n",
      "Frozenset:   frozenset({'B', 'A'})\n",
      "----------------------------------------------\n",
      "Boolean:     True or False\n",
      "----------------------------------------------\n",
      "Bytes:       b'\\x00'\n",
      "Bytearray:   bytearray(b'\\x00\\x00\\x00\\x00\\x00')\n",
      "Memoryview:  <memory at 0x0000013DBF8EDC40>\n",
      "---------------------End---------------------\n"
     ]
    }
   ],
   "source": [
    "print(end = '\\n-------------------Data-Types-----------------\\n')\n",
    "\n",
    "# Text \n",
    "st = 'Hello World!!'\n",
    "print(f\"{'String: ':12}\",st,end = '\\n----------------------------------------------\\n')\n",
    "\n",
    "# Numeric \n",
    "x = 1    # int\n",
    "y = 2.8  # float\n",
    "z = 3 + 1j   # complex numeber\n",
    "\n",
    "print(f\"{'Integer: ':12} {x}\",f\"{'Float: ':12} {y}\",f\"{'Complex: ':12} {z}\",sep = '\\n',end = '\\n----------------------------------------------\\n')\n",
    "\n",
    "# Sequence\n",
    "\n",
    "li = ['a', 1, True] # Hetrogendsd++ous and Mutable\n",
    "tup = (1,2,'a') # Immutable\n",
    "ran = range(10) # gives range genrator object, to access this in list format use list(range(n))\n",
    "\n",
    "print(f\"{'List: ':12} {li}\",f\"{'Tuple: ':12} {tup}\",f\"{'Range: ':12} {ran}\",sep = '\\n',end = '\\n----------------------------------------------\\n')\n",
    "\n",
    "# Mapping\n",
    "\n",
    "di = {\n",
    "    'key1': 'val1',\n",
    "     3: 'val3'\n",
    "     }\n",
    "# We can access the values of dict by corresponding keys\n",
    "\n",
    "print(f\"{'Dict: ':12} {di}\",sep = '\\n',end = '\\n----------------------------------------------\\n')\n",
    "\n",
    "# Sets\n",
    "\n",
    "se = {'Uni_1','Uni_2'} # Mutable and Unique values\n",
    "f_se = frozenset({'A','B'}) # Immutable and Unique valuse\n",
    "\n",
    "print(f\"{'Sets: ':12} {se}\",f\"{'Frozenset: ':12} {f_se}\",sep = '\\n',end = '\\n----------------------------------------------\\n')\n",
    "\n",
    "# Boolean\n",
    "\n",
    "print(f\"{'Boolean: ':12} True or False\",sep = '\\n',end = '\\n----------------------------------------------\\n')\n",
    "\n",
    "# Binary\n",
    "\n",
    "x = bytes(1)\n",
    "y = bytearray(5)\n",
    "z = memoryview(bytes(5))\n",
    "\n",
    "print(f\"{'Bytes: ':12} {x}\",f\"{'Bytearray: ':12} {y}\",f\"{'Memoryview: ':12} {z}\",sep = '\\n',end = '\\n---------------------End---------------------\\n')\n"
   ]
  },
  {
   "cell_type": "markdown",
   "id": "77b58d4f",
   "metadata": {},
   "source": [
    "**Important Property of Boolean Data type:**\n",
    "<br>\n",
    "Almost any value is evaluated to True if it has some sort of content. Any string is True, except empty strings.<br>\n",
    "Any number is True, except 0. Any list, tuple, set, and dictionary are True, except empty ones."
   ]
  },
  {
   "cell_type": "markdown",
   "id": "688ee92e",
   "metadata": {},
   "source": [
    "### Type Function\n",
    "To check the datatype of any object we can use ```type()``` function"
   ]
  },
  {
   "cell_type": "code",
   "execution_count": 58,
   "id": "084a1a81",
   "metadata": {},
   "outputs": [
    {
     "name": "stdout",
     "output_type": "stream",
     "text": [
      "<class 'bytes'>\n",
      "<class 'dict'>\n",
      "<class 'frozenset'>\n"
     ]
    }
   ],
   "source": [
    "# To check the type of variable, use the type() function\n",
    "print(type(x))\n",
    "print(type(di))\n",
    "print(type(f_se))"
   ]
  },
  {
   "cell_type": "markdown",
   "id": "ec2f505c",
   "metadata": {},
   "source": [
    "<hr>\n",
    "<a id = 'obj5'></a>\n",
    "\n",
    "### Type Casting\n",
    "\n",
    "There may be times when you want to specify a type on to a variable. This can be done with casting.\n",
    "\n",
    "To case one variable of one type to another just pass the variable or the value to the desired constructor function."
   ]
  },
  {
   "cell_type": "code",
   "execution_count": 59,
   "id": "8ae518d6",
   "metadata": {},
   "outputs": [
    {
     "name": "stdout",
     "output_type": "stream",
     "text": [
      "<class 'str'>\n"
     ]
    }
   ],
   "source": [
    "x = 7\n",
    "y = str(x)\n",
    "print(type(y))"
   ]
  },
  {
   "cell_type": "markdown",
   "id": "6003a10b",
   "metadata": {},
   "source": [
    "In Implicit type conversion, Python automatically converts one data type to another data type. This process doesn't need any user involvemen"
   ]
  },
  {
   "cell_type": "code",
   "execution_count": 60,
   "id": "d787f1e5",
   "metadata": {},
   "outputs": [
    {
     "name": "stdout",
     "output_type": "stream",
     "text": [
      "datatype of num_int: <class 'int'>\n",
      "datatype of num_flo: <class 'float'>\n",
      "Value of num_new: 124.23\n",
      "datatype of num_new: <class 'float'>\n"
     ]
    }
   ],
   "source": [
    "num_int = 123\n",
    "num_flo = 1.23\n",
    "\n",
    "num_new = num_int + num_flo\n",
    "\n",
    "print(\"datatype of num_int:\",type(num_int))\n",
    "print(\"datatype of num_flo:\",type(num_flo))\n",
    "\n",
    "print(\"Value of num_new:\",num_new)\n",
    "print(\"datatype of num_new:\",type(num_new))"
   ]
  },
  {
   "cell_type": "code",
   "execution_count": 61,
   "id": "c6350508",
   "metadata": {},
   "outputs": [
    {
     "name": "stdout",
     "output_type": "stream",
     "text": [
      "error occured\n"
     ]
    }
   ],
   "source": [
    "# Ignore the try except part of the code, it helps us to suppress any error\n",
    "\n",
    "try:\n",
    "    x = \"hello\"\n",
    "    y = int(x)\n",
    "    print(type(y))\n",
    "    \n",
    "except:\n",
    "    print(\"error occured\")"
   ]
  },
  {
   "cell_type": "markdown",
   "id": "7d36b388",
   "metadata": {},
   "source": [
    "## <center>END</center>"
   ]
  }
 ],
 "metadata": {
  "kernelspec": {
   "display_name": "Python 3",
   "language": "python",
   "name": "python3"
  },
  "language_info": {
   "codemirror_mode": {
    "name": "ipython",
    "version": 3
   },
   "file_extension": ".py",
   "mimetype": "text/x-python",
   "name": "python",
   "nbconvert_exporter": "python",
   "pygments_lexer": "ipython3",
   "version": "3.8.8"
  }
 },
 "nbformat": 4,
 "nbformat_minor": 5
}
