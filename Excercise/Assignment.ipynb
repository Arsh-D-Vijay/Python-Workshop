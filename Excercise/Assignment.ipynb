{
 "cells": [
  {
   "cell_type": "markdown",
   "id": "d0b35bae",
   "metadata": {},
   "source": [
    "# Excercise\n",
    "\n",
    "This is the excersie file for the python basic workshop"
   ]
  },
  {
   "cell_type": "markdown",
   "id": "c5c35199",
   "metadata": {},
   "source": [
    "### I/O function \n",
    "Q1) Using three print statements, print the title of your 3 favourite TV Shows in a single continuous line with each title in a different print statement.<br>\n",
    "Output Format -> \n",
    "``` title1    title2    title3 ```"
   ]
  },
  {
   "cell_type": "code",
   "execution_count": null,
   "id": "3f723ea6",
   "metadata": {},
   "outputs": [],
   "source": [
    "# Write your code here:\n",
    "# don't delete or add anything new, just write the required code inside the 3 print satements\n",
    "\n",
    "title1 = input(\"Enter Movie Title: \")\n",
    "title2 = input(\"Enter Movie Title: \")\n",
    "title3 = input(\"Enter Movie Title: \")\n",
    "\n",
    "print()\n",
    "print()\n",
    "print()"
   ]
  },
  {
   "cell_type": "markdown",
   "id": "ee0d046f",
   "metadata": {},
   "source": [
    "\n",
    "```*``` Miscellaneous Question\n",
    "\n",
    "Input your name and roll number using single ```Input``` statement and print all the numbers in your roll number followed by your name. <br>\n",
    "Input Format :\n",
    ">```Full_name Roll_Number```\n",
    "\n",
    "Output Format :\n",
    ">```Roll_Number(Only Numeric Part)     Last_Name```\n",
    "\n"
   ]
  },
  {
   "cell_type": "code",
   "execution_count": null,
   "id": "83888c51",
   "metadata": {},
   "outputs": [],
   "source": [
    "name_and_roll = input()\n",
    "# Write your code here:\n",
    "\n",
    "print()"
   ]
  },
  {
   "cell_type": "markdown",
   "id": "4c9753fa",
   "metadata": {},
   "source": [
    "### Variables\n",
    "\n",
    "Q2) Out of the following name pick out the variables with valid names.\n",
    "* myvar = \"John\"\n",
    "* my_var = \"John\"\n",
    "* _my_var = \"John\"\n",
    "* 2myvar = \"John\"\n",
    "* myVar = \"John\"\n",
    "* my-var = \"John\"\n",
    "* my var = \"John\"\n",
    "* MYVAR = \"John\"\n",
    "* myvar2 = \"John\"\n"
   ]
  },
  {
   "cell_type": "code",
   "execution_count": null,
   "id": "86db4504",
   "metadata": {},
   "outputs": [],
   "source": [
    "try:\n",
    "    # initialize all the valid variables here\n",
    "    \n",
    "except:       \n",
    "    #dont write here\n",
    "    print(\"Wrong Answer, Try Again!\")"
   ]
  },
  {
   "cell_type": "markdown",
   "id": "f70aaaa5",
   "metadata": {},
   "source": [
    "Q3) Create a ```int``` variable with value 20. Now add 20 to this variable. Create a ```string``` variable with your name as value, now add another string (surname) to this. Print the reuslts along with their data types and also write in comments the name of this operation. *Don't hard code anything*"
   ]
  },
  {
   "cell_type": "code",
   "execution_count": null,
   "id": "2a041a63",
   "metadata": {},
   "outputs": [],
   "source": [
    "integer = # code here\n",
    "string = # code here\n",
    "\n",
    "# code here\n"
   ]
  },
  {
   "cell_type": "markdown",
   "id": "241f9502",
   "metadata": {},
   "source": [
    "### Dict\n",
    "\n",
    "Q4) Using ```dict``` create a one line of code to compare two numbers a = 10 and b = 15."
   ]
  },
  {
   "cell_type": "code",
   "execution_count": null,
   "id": "e9e52c6d",
   "metadata": {},
   "outputs": [],
   "source": [
    "a = 10\n",
    "b = 15\n",
    "\n",
    "# Write your code here"
   ]
  },
  {
   "cell_type": "code",
   "execution_count": null,
   "id": "e2dcb43a",
   "metadata": {},
   "outputs": [],
   "source": []
  }
 ],
 "metadata": {
  "kernelspec": {
   "display_name": "Python 3",
   "language": "python",
   "name": "python3"
  },
  "language_info": {
   "codemirror_mode": {
    "name": "ipython",
    "version": 3
   },
   "file_extension": ".py",
   "mimetype": "text/x-python",
   "name": "python",
   "nbconvert_exporter": "python",
   "pygments_lexer": "ipython3",
   "version": "3.8.8"
  }
 },
 "nbformat": 4,
 "nbformat_minor": 5
}
